{
 "cells": [
  {
   "cell_type": "raw",
   "id": "5dd97fae-9652-4948-a6a9-b6c77a20a862",
   "metadata": {},
   "source": [
    "Q1- How can we store a single quote (') as a string in a variable?"
   ]
  },
  {
   "cell_type": "code",
   "execution_count": null,
   "id": "59f4bda8-806a-4968-8506-4e687a7b045e",
   "metadata": {},
   "outputs": [],
   "source": [
    "a=\" 'Hello'\"  #example 1\n",
    "print(a)"
   ]
  },
  {
   "cell_type": "raw",
   "id": "5435db6e-e2ae-401e-8bb6-33c9ebc8771d",
   "metadata": {},
   "source": [
    "Q2-Refer the below variables:\n",
    "x='a'\n",
    "Here,is x a character type funtion on this variable? Support your answer with an explanation\n",
    "    "
   ]
  },
  {
   "cell_type": "code",
   "execution_count": null,
   "id": "0ea310d5-fbe3-4105-9b7c-370301cf9ac3",
   "metadata": {},
   "outputs": [],
   "source": [
    "x='a'\n",
    "print(x)"
   ]
  },
  {
   "cell_type": "raw",
   "id": "012d068b-5efb-4113-b72c-831f882fb6a0",
   "metadata": {},
   "source": [
    "Variable x is a character type variable because in python value is assigned to a single character in a single quotes is represent a single character value"
   ]
  },
  {
   "cell_type": "raw",
   "id": "a8077867-ef3f-473a-8f52-663515f8aa7c",
   "metadata": {},
   "source": [
    "Q3-Apply the following functions on the variable:'Welcome to Python foundation course'\n",
    "1-find()\n",
    "2-count()\n",
    "3-len()\n",
    "4-Concatenation"
   ]
  },
  {
   "cell_type": "code",
   "execution_count": null,
   "id": "afb3ec4f-5d14-4c19-ad09-461e099f2528",
   "metadata": {},
   "outputs": [],
   "source": [
    "sid='Welcome to Python foundation course'   #example 1 of question no 3\n",
    "print(sid.find(\"c\"))"
   ]
  },
  {
   "cell_type": "code",
   "execution_count": null,
   "id": "516acd73-e5ed-41e7-9bfb-c328596cf905",
   "metadata": {},
   "outputs": [],
   "source": [
    "sid.count('o')    #example 2 of Q3"
   ]
  },
  {
   "cell_type": "code",
   "execution_count": null,
   "id": "5596f194-1d3f-4e36-abe7-bd5a9f30b930",
   "metadata": {},
   "outputs": [],
   "source": [
    "len(sid)          #example 3 of Q3"
   ]
  },
  {
   "cell_type": "code",
   "execution_count": null,
   "id": "491bcdd4-dd8b-4f3d-a2e8-d22f7f6a6af6",
   "metadata": {},
   "outputs": [],
   "source": [
    "string1=\"Hello\"      #example 4 of Q4\n",
    "string2=\" everyone\"\n",
    "result=string1+string2\n",
    "print(result)"
   ]
  },
  {
   "cell_type": "raw",
   "id": "550bec4f-a31e-4bcc-8a09-40682927f530",
   "metadata": {},
   "source": [
    "Q4-For the variable:word='PanaJi@12256'\n",
    "Calculate the following:\n",
    "(a)Total number of alphabts in lowecase\n",
    "(b)Total number of alphabets in upperecase \n",
    "(c)Total number of numerical in string\n",
    "Ans-"
   ]
  },
  {
   "cell_type": "code",
   "execution_count": null,
   "id": "72b43c96-94ba-46c4-993b-bb757fb3713a",
   "metadata": {},
   "outputs": [],
   "source": [
    "word='PanaJi@12256'\n",
    "lowercase_count=0\n",
    "uppercase_count=0\n",
    "numerical_count=0\n",
    "for char in word:\n",
    "    if char.islower():\n",
    "        lowercase_count +=1\n",
    "    elif char.isupper():\n",
    "        uppercase_count +=1\n",
    "    elif char.isnumeric():\n",
    "        numerical_count +=1\n",
    "print(\"total no in lowercase\",lowercase_count)\n",
    "print(\"total no in uppercase\",uppercase_count)\n",
    "print(\"total no in numerical\",numerical_count)\n"
   ]
  },
  {
   "cell_type": "markdown",
   "id": "5b4319a4-2f97-4aa2-8227-1c6dc82de8d5",
   "metadata": {},
   "source": [
    "Q5-Write a code to store a numrical value inside a variable then convert into string.\n",
    "Ans-"
   ]
  },
  {
   "cell_type": "code",
   "execution_count": null,
   "id": "56cbc303-c26a-4e1d-978e-ae81a55aba5d",
   "metadata": {},
   "outputs": [],
   "source": [
    "number=7688\n",
    "number_string=str(number)\n",
    "print(\"original number:\",number)\n",
    "print(\"converted string:\",number_string)"
   ]
  },
  {
   "cell_type": "code",
   "execution_count": null,
   "id": "cfed854d-b308-46bf-83d1-289afe0e838a",
   "metadata": {},
   "outputs": [],
   "source": []
  },
  {
   "cell_type": "code",
   "execution_count": null,
   "id": "13380dbe-c09e-4740-929c-b44f41706b75",
   "metadata": {},
   "outputs": [],
   "source": []
  },
  {
   "cell_type": "code",
   "execution_count": null,
   "id": "280ab0c4-d49a-43e7-b9d6-d8973ab8fd03",
   "metadata": {},
   "outputs": [],
   "source": []
  },
  {
   "cell_type": "code",
   "execution_count": null,
   "id": "8127440e-9a74-491a-8fe4-fa44abc2392c",
   "metadata": {},
   "outputs": [],
   "source": []
  },
  {
   "cell_type": "code",
   "execution_count": null,
   "id": "58788ac4-4198-44b4-bb75-4595f08dc586",
   "metadata": {},
   "outputs": [],
   "source": []
  },
  {
   "cell_type": "code",
   "execution_count": null,
   "id": "12dc2ecb-c47a-4a46-9a04-d3356c039887",
   "metadata": {},
   "outputs": [],
   "source": []
  },
  {
   "cell_type": "code",
   "execution_count": null,
   "id": "15a9b201-0ff1-46fd-acfd-c8c8f7c1409e",
   "metadata": {},
   "outputs": [],
   "source": []
  },
  {
   "cell_type": "code",
   "execution_count": null,
   "id": "adf02316-7be3-4932-9a81-f0a3c3075790",
   "metadata": {},
   "outputs": [],
   "source": []
  }
 ],
 "metadata": {
  "kernelspec": {
   "display_name": "Python 3 (ipykernel)",
   "language": "python",
   "name": "python3"
  },
  "language_info": {
   "codemirror_mode": {
    "name": "ipython",
    "version": 3
   },
   "file_extension": ".py",
   "mimetype": "text/x-python",
   "name": "python",
   "nbconvert_exporter": "python",
   "pygments_lexer": "ipython3",
   "version": "3.10.8"
  }
 },
 "nbformat": 4,
 "nbformat_minor": 5
}
